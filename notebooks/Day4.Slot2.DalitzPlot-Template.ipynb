{
 "cells": [
  {
   "cell_type": "markdown",
   "metadata": {},
   "source": [
    "# Template for the tutorial 4-3\n",
    "##  Dalitz plot"
   ]
  },
  {
   "cell_type": "markdown",
   "metadata": {},
   "source": [
    "### Plotting functions"
   ]
  },
  {
   "cell_type": "code",
   "execution_count": 1,
   "metadata": {
    "collapsed": false
   },
   "outputs": [
    {
     "name": "stderr",
     "output_type": "stream",
     "text": [
      "WARNING: Method definition macroexpand(Module, Any) in module Compat at /home/mikhasenko/.julia/v0.6/Compat/src/Compat.jl:1491 overwritten in module MacroTools at /home/mikhasenko/.julia/v0.6/MacroTools/src/utils.jl:64.\n"
     ]
    },
    {
     "data": {
      "text/plain": [
       "DensityPlot (generic function with 1 method)"
      ]
     },
     "execution_count": 1,
     "metadata": {},
     "output_type": "execute_result"
    }
   ],
   "source": [
    "using PyPlot\n",
    "using PyCall\n",
    "@pyimport numpy.ma as ma\n",
    "\n",
    "# simple flat plot\n",
    "function Plot(f, x)\n",
    "    fx=[f(xi) for xi in x]\n",
    "    plot(x, fx)\n",
    "end\n",
    "\n",
    "# plot of function of 2 variables, 3D plot\n",
    "function Plot(f, x, y)\n",
    "    fx=[[xi, yi, f(xi,yi)] for xi in x for yi in y]\n",
    "    surf([fxi[1] for fxi in fx], [fxi[2] for fxi in fx], [fxi[3] for fxi in fx])\n",
    "end\n",
    "\n",
    "# plot of function of 2 variables, color-codded\n",
    "function DensityPlot(f, x, y)\n",
    "    xy = [[xi, yi] for xi in x, yi in y]\n",
    "    zv = [f((xy[i,j][1]+xy[i+1,j+1][1])/2.,\n",
    "            (xy[i,j][2]+xy[i+1,j+1][2])/2.) for i in 1:(size(xy,1)-1), j in 1:(size(xy,2)-1)]\n",
    "    zvmask = pycall(ma.array, Any, zv, mask=isnan.(zv))\n",
    "    xv = [xy[i,j][1] for i in 1:size(xy,1), j in 1:size(xy,2)]\n",
    "    yv = [xy[i,j][2] for i in 1:size(xy,1), j in 1:size(xy,2)]\n",
    "    pcolor(xv, yv, zvmask)\n",
    "end"
   ]
  },
  {
   "cell_type": "markdown",
   "metadata": {},
   "source": [
    "### Kinematics functions"
   ]
  },
  {
   "cell_type": "code",
   "execution_count": 2,
   "metadata": {
    "collapsed": false
   },
   "outputs": [],
   "source": [
    "# K\\\"allen function\n",
    "λ(x,y,z)=x^2+y^2+z^2-2*x*y-2*y*z-2*z*x\n",
    "\n",
    "# Break-up momentum\n",
    "psq(x,y,z)=λ(x,y,z)/(4*x);\n",
    "\n",
    "# scattering angle in the s-channel\n",
    "cosθsq(s,t,Msq,m1sq,m2sq,m3sq)=(2s*(t-m2sq-m3sq)-(s+m2sq-m1sq)*(Msq-s-m3sq))^2/(λ(s,m1sq,m2sq)*λ(Msq,s,m3sq))\n",
    "\n",
    "# inverse to previous one\n",
    "function t(s,cosθ,Msq,m1sq,m2sq,m3sq)\n",
    "    e2 = (s+m2sq-m1sq)/(2*sqrt(s))\n",
    "    e3 = (Msq-s-m3sq)/(2*sqrt(s))\n",
    "    p2 = sqrt(λ(s,m1sq,m2sq)/(4*s))\n",
    "    p3 = sqrt(λ(Msq,s,m3sq)/(4*s))\n",
    "    m2sq+m3sq+2*e2*e3-2*p2*p3*cosθ\n",
    "end\n",
    "\n",
    "# border function returns 0 or 1 whether the dacay is forbidden or allowed\n",
    "function border(s,t,Msq,m1sq,m2sq,m3sq)\n",
    "    val = 0.0\n",
    "    √s =sqrt(s); √t =sqrt(t)\n",
    "    m1 = sqrt(m1sq); m2 = sqrt(m2sq); m3 = sqrt(m3sq)\n",
    "    Mtot = sqrt(Msq)\n",
    "    if (√s > m1+m2) && (√s < Mtot-m3) && (√t > m2+m3) && (√t < Mtot-m1) && (cosθsq(s,t,Msq,m1sq,m2sq,m3sq) < 1.)\n",
    "        val = 1\n",
    "    end\n",
    "    return val\n",
    "end\n",
    "\n",
    "function h1(p)\n",
    "    R=5\n",
    "    RPsq = R^2*p^2\n",
    "    sqrt(RPsq/(1+RPsq))\n",
    "end"
   ]
  },
  {
   "cell_type": "markdown",
   "metadata": {},
   "source": [
    "## Plot your matrix element\n",
    "just fill $\\mathfrak{M}(s,t)$ function"
   ]
  },
  {
   "cell_type": "code",
   "execution_count": 1,
   "metadata": {
    "collapsed": false
   },
   "outputs": [
    {
     "ename": "LoadError",
     "evalue": "\u001b[91mUndefVarError: DensityPlot not defined\u001b[39m",
     "output_type": "error",
     "traceback": [
      "\u001b[91mUndefVarError: DensityPlot not defined\u001b[39m",
      ""
     ]
    }
   ],
   "source": [
    "# Function for the square of the matrix element\n",
    "mπ=0.139;\n",
    "mρ=0.7755; Γρ=0.15; Ma1 = 1.26;\n",
    "\n",
    "Msq = Ma1^2; m1sq = mπ^2; m2sq = mπ^2; m3sq = mπ^2;\n",
    "\n",
    "# This is a function fo fill\n",
    "function Matr(s,t)\n",
    "    1./(mρ^2-s-1im*Γρ*mρ)\n",
    "end\n",
    "\n",
    "# MatrSq just add missing values outside of the Dalitz plot\n",
    "function MatrSq(s,t,Msq,m1sq,m2sq,m3sq)\n",
    "    if (border(s,t,) == 0)\n",
    "        return NaN\n",
    "    end\n",
    "    abs(Matr(s,t))^2\n",
    "end\n",
    "\n",
    "# Plot\n",
    "DensityPlot(MatrSq, 0:0.005:1.2, 0:0.005:1.2)"
   ]
  },
  {
   "cell_type": "code",
   "execution_count": null,
   "metadata": {
    "collapsed": true
   },
   "outputs": [],
   "source": []
  }
 ],
 "metadata": {
  "kernelspec": {
   "display_name": "Julia 0.6.0-rc2",
   "language": "julia",
   "name": "julia-0.6"
  },
  "language_info": {
   "file_extension": ".jl",
   "mimetype": "application/julia",
   "name": "julia",
   "version": "0.6.0"
  }
 },
 "nbformat": 4,
 "nbformat_minor": 2
}
