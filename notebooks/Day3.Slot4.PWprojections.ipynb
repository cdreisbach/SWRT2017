{
 "cells": [
  {
   "cell_type": "markdown",
   "metadata": {},
   "source": [
    "# Partial wave analysis\n",
    "In the notebook I draw partial wave projections and show analytic structure"
   ]
  },
  {
   "cell_type": "code",
   "execution_count": 1,
   "metadata": {
    "collapsed": false
   },
   "outputs": [
    {
     "name": "stderr",
     "output_type": "stream",
     "text": [
      "WARNING: Method definition macroexpand(Module, Any) in module Compat at /home/mikhasenko/.julia/v0.6/Compat/src/Compat.jl:1491 overwritten in module MacroTools at /home/mikhasenko/.julia/v0.6/MacroTools/src/utils.jl:64.\n"
     ]
    },
    {
     "data": {
      "text/plain": [
       "DensityPlot (generic function with 1 method)"
      ]
     },
     "execution_count": 1,
     "metadata": {},
     "output_type": "execute_result"
    }
   ],
   "source": [
    "using PyPlot\n",
    "using PyCall\n",
    "@pyimport numpy.ma as ma\n",
    "\n",
    "# simple flat plot\n",
    "function Plot(f, x)\n",
    "    fx=[f(xi) for xi in x]\n",
    "    plot(x, fx)\n",
    "end\n",
    "\n",
    "# plot of function of 2 variables, 3D plot\n",
    "function Plot(f, x, y)\n",
    "    fx=[[xi, yi, f(xi,yi)] for xi in x for yi in y]\n",
    "    surf([fxi[1] for fxi in fx], [fxi[2] for fxi in fx], [fxi[3] for fxi in fx])\n",
    "end\n",
    "\n",
    "# plot of function of 2 variables, color-codded\n",
    "function DensityPlot(f, x, y)\n",
    "    xy = [[xi, yi] for xi in x, yi in y]\n",
    "    zv = [f((xy[i,j][1]+xy[i+1,j+1][1])/2.,\n",
    "            (xy[i,j][2]+xy[i+1,j+1][2])/2.) for i in 1:(size(xy,1)-1), j in 1:(size(xy,2)-1)]\n",
    "    zvmask = pycall(ma.array, Any, zv, mask=isnan.(zv))\n",
    "    xv = [xy[i,j][1] for i in 1:size(xy,1), j in 1:size(xy,2)]\n",
    "    yv = [xy[i,j][2] for i in 1:size(xy,1), j in 1:size(xy,2)]\n",
    "    pcolor(xv, yv, zvmask)\n",
    "end"
   ]
  },
  {
   "cell_type": "markdown",
   "metadata": {},
   "source": [
    "### S-wave projection with the simple model\n",
    "$$\n",
    "A(s,t) = \\sum_l (2l+1)\\, a_l(s)\\, P_l(z), \\quad\n",
    "a_l = \\int \\frac{\\mathrm{d}z}{2} A(s,t) P_l(z)\n",
    "$$\n",
    "The amplitude is $A(s,t) = g^2/(M^2-t)$ therefore the projection\n",
    "$$\n",
    "a_0(s) = \\frac{g^2}{\\sqrt{(s-4m_a^2)(s-4m_b^2)}}\n",
    "\\log \\frac{2(M^2-m_a^2-m_b^2)-s + \\sqrt{s-4m_a^2}\\sqrt{s-4m_b^2}-i\\epsilon}{2(M^2-m_a^2-m_b^2)-s -\\sqrt{s-4m_a^2}\\sqrt{s-4m_b^2} - i\\epsilon}\n",
    "$$"
   ]
  },
  {
   "cell_type": "code",
   "execution_count": 31,
   "metadata": {
    "collapsed": false
   },
   "outputs": [
    {
     "data": {
      "text/plain": [
       "a0 (generic function with 1 method)"
      ]
     },
     "execution_count": 31,
     "metadata": {},
     "output_type": "execute_result"
    }
   ],
   "source": [
    "# masses\n",
    "Ma = 0.14\n",
    "Mb = 1.\n",
    "M = 1.\n",
    "\n",
    "# K\\\"allen function\n",
    "λ(x,y,z)=x^2+y^2+z^2-2*x*y-2*y*z-2*z*x\n",
    "\n",
    "# Break-up momentum\n",
    "psq(x,y,z)=λ(x,y,z)/(4*x)\n",
    "\n",
    "function a0(s)\n",
    "    A = M^2-Ma^2-Mb^2-s/2.\n",
    "    B = sqrt(s-4*Ma^2)*sqrt(s-4*Mb^2)/2.\n",
    "    1./(sqrt(s-4*Ma^2)*sqrt(s-4*Mb^2))*log((A+B-0.001im)/(A-B-0.001im))\n",
    "end"
   ]
  },
  {
   "cell_type": "code",
   "execution_count": 33,
   "metadata": {
    "collapsed": false
   },
   "outputs": [
    {
     "data": {
      "image/png": "[encoded data removed]",
      "text/plain": [
       "PyPlot.Figure(PyObject <matplotlib.figure.Figure object at 0x7ff9be13d8d0>)"
      ]
     },
     "metadata": {},
     "output_type": "display_data"
    },
    {
     "data": {
      "text/plain": [
       "1-element Array{Any,1}:\n",
       " PyObject <matplotlib.lines.Line2D object at 0x7ff9bddae890>"
      ]
     },
     "execution_count": 33,
     "metadata": {},
     "output_type": "execute_result"
    }
   ],
   "source": [
    "Plot(x->real(a0(x+0.000001im)), -1:0.01:2)\n",
    "Plot(x->imag(a0(x+0.000001im)), -1:0.01:2)"
   ]
  },
  {
   "cell_type": "markdown",
   "metadata": {},
   "source": [
    "### Complex structure\n",
    "Plot imaginary part in the complex plane"
   ]
  },
  {
   "cell_type": "code",
   "execution_count": null,
   "metadata": {
    "collapsed": false,
    "scrolled": false
   },
   "outputs": [],
   "source": [
    "DensityPlot(-1:0.1:5, -2:0.1:2) do x, y\n",
    "    return imag(a0(x+1im*y))\n",
    "end"
   ]
  },
  {
   "cell_type": "code",
   "execution_count": null,
   "metadata": {
    "collapsed": true
   },
   "outputs": [],
   "source": []
  }
 ],
 "metadata": {
  "kernelspec": {
   "display_name": "Julia 0.6.0-rc2",
   "language": "julia",
   "name": "julia-0.6"
  },
  "language_info": {
   "file_extension": ".jl",
   "mimetype": "application/julia",
   "name": "julia",
   "version": "0.6.0"
  }
 },
 "nbformat": 4,
 "nbformat_minor": 0
}
