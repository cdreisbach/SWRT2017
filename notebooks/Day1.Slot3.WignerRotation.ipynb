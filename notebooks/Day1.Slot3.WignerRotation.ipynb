{
 "cells": [
  {
   "cell_type": "markdown",
   "metadata": {},
   "source": [
    "# The tutorial on Wigner rotation\n",
    "in the notebook we show how to deal with play with matrices"
   ]
  },
  {
   "cell_type": "code",
   "execution_count": null,
   "metadata": {
    "collapsed": true
   },
   "outputs": [],
   "source": [
    "# try Pkg.add(\"SymPy\") if it does not work\n",
    "using SymPy"
   ]
  },
  {
   "cell_type": "code",
   "execution_count": 33,
   "metadata": {
    "collapsed": false
   },
   "outputs": [
    {
     "data": {
      "text/plain": [
       "R4 (generic function with 2 methods)"
      ]
     },
     "execution_count": 33,
     "metadata": {},
     "output_type": "execute_result"
    }
   ],
   "source": [
    "# boost along z axis\n",
    "function Λz(γ)\n",
    "    β=1-1/γ^2\n",
    "    [γ 0 0 β*γ; 0 1 0 0; 0 0 1 0; β*γ 0 0 γ]\n",
    "end\n",
    "# rotation about z and y axis\n",
    "Rz(θ) = [cos(θ) -sin(θ) 0; sin(θ) cos(θ) 0; 0 0 1]\n",
    "Ry(θ) = [cos(θ) 0 sin(θ); 0 1 0; -sin(θ) 0 cos(θ)]\n",
    "# combined rotations, 3d matrixes\n",
    "R3(ϕ,θ,γ)=Rz(ϕ)*Ry(θ)*Rz(γ) # Euler angles\n",
    "R3(ϕ,θ)=Rz(ϕ)*Ry(θ) # experimental convensions\n",
    "# 4d matrixes in block forms\n",
    "R4(ϕ,θ)=[1 [0 0 0];[0 0 0]' R3(ϕ,θ)]\n",
    "R4(ϕ,θ,γ)=[1 [0 0 0];[0 0 0]' R3(ϕ,θ,γ)]"
   ]
  },
  {
   "cell_type": "code",
   "execution_count": 30,
   "metadata": {
    "collapsed": false
   },
   "outputs": [
    {
     "data": {
      "text/latex": [
       "\\begin{bmatrix}g_{1}&0&0&g_{1} \\left(1 - \\frac{1}{g_{1}^{2}}\\right)\\\\0&1&0&0\\\\0&0&1&0\\\\g_{1} \\left(1 - \\frac{1}{g_{1}^{2}}\\right)&0&0&g_{1}\\end{bmatrix}"
      ],
      "text/plain": [
       "4×4 Array{SymPy.Sym,2}:\n",
       "              g1  0  0  g1*(1 - 1/g1^2)\n",
       "               0  1  0                0\n",
       "               0  0  1                0\n",
       " g1*(1 - 1/g1^2)  0  0               g1"
      ]
     },
     "execution_count": 30,
     "metadata": {},
     "output_type": "execute_result"
    }
   ],
   "source": [
    "Λz(Sym(\"g1\"))"
   ]
  },
  {
   "cell_type": "markdown",
   "metadata": {},
   "source": [
    "Check the state we get when rotate $(0,0,1)$ for angle $\\pi/3$"
   ]
  },
  {
   "cell_type": "code",
   "execution_count": 38,
   "metadata": {
    "collapsed": false
   },
   "outputs": [
    {
     "data": {
      "text/latex": [
       "\\begin{bmatrix}0.5 \\sqrt{3}\\\\0\\\\0.5\\end{bmatrix}"
      ],
      "text/plain": [
       "3×1 Array{SymPy.Sym,2}:\n",
       "       0.5*sqrt(3)\n",
       "                 0\n",
       " 0.500000000000000"
      ]
     },
     "execution_count": 38,
     "metadata": {},
     "output_type": "execute_result"
    }
   ],
   "source": [
    "R3(0,Sym(\"pi\")/3)*[0 0 1]'"
   ]
  },
  {
   "cell_type": "markdown",
   "metadata": {},
   "source": [
    "Let's perform boost along x of the state $|p_z,m\\rangle = \\Lambda_z(\\gamma)\\,|\\vec{0},m\\rangle$.\n",
    "$\\Lambda_x(\\gamma_2) = \\Lambda_z(\\gamma_2)R(0,\\pi/2,0)$.\n",
    "\n",
    "Therefore, the whole transformation become\n",
    "$$\n",
    "|\\vec{p},m'\\rangle \n",
    "\\Lambda_x(\\gamma_2)\\,|p_z,m\\rangle  = \n",
    "R_y(\\pi/2)\\Lambda_z(\\gamma_2)R_y(-\\pi/2)\\Lambda_z(\\gamma)\\,|\\vec{0},m\\rangle.\n",
    "$$\n",
    "Let's compare it to the direct boost\n",
    "$$\n",
    "|\\vec{p},m'\\rangle = \\fbox{$\\color{red} R_y(\\theta_w)$}\\,\\Lambda_{\\vec{p}}(\\gamma) |\\vec{0},m\\rangle\n",
    "$$"
   ]
  },
  {
   "cell_type": "code",
   "execution_count": 36,
   "metadata": {
    "collapsed": false
   },
   "outputs": [
    {
     "data": {
      "text/latex": [
       "\\begin{bmatrix}g_{1} g_{2}&1.0 g_{2} \\left(1 - \\frac{1}{g_{2}^{2}}\\right)&0&g_{1} g_{2} \\left(1 - \\frac{1}{g_{1}^{2}}\\right)\\\\1.0 g_{1} g_{2} \\left(1 - \\frac{1}{g_{2}^{2}}\\right)&1.0 g_{2}&0&1.0 g_{1} g_{2} \\left(1 - \\frac{1}{g_{1}^{2}}\\right) \\left(1 - \\frac{1}{g_{2}^{2}}\\right)\\\\0&0&1.0&0\\\\1.0 g_{1} \\left(1 - \\frac{1}{g_{1}^{2}}\\right)&0&0&1.0 g_{1}\\end{bmatrix}"
      ],
      "text/plain": [
       "4×4 Array{SymPy.Sym,2}:\n",
       "                  g1*g2  …                   g1*g2*(1 - 1/g1^2)\n",
       " 1.0*g1*g2*(1 - 1/g2^2)     1.0*g1*g2*(1 - 1/g1^2)*(1 - 1/g2^2)\n",
       "                      0                                       0\n",
       "    1.0*g1*(1 - 1/g1^2)                                  1.0*g1"
      ]
     },
     "execution_count": 36,
     "metadata": {},
     "output_type": "execute_result"
    }
   ],
   "source": [
    "# check how does the first matrix look like\n",
    "M1 = R4(0,Sym(\"pi\")/2,0)*Λz(Sym(\"g2\"))*R4(0,-Sym(\"pi\")/2,0)*Λz(Sym(\"g1\"))"
   ]
  },
  {
   "cell_type": "code",
   "execution_count": 37,
   "metadata": {
    "collapsed": false
   },
   "outputs": [
    {
     "data": {
      "text/latex": [
       "\\begin{bmatrix}g_{1} g_{2}\\\\1.0 g_{1} g_{2} \\left(1 - \\frac{1}{g_{2}^{2}}\\right)\\\\0\\\\1.0 g_{1} \\left(1 - \\frac{1}{g_{1}^{2}}\\right)\\end{bmatrix}"
      ],
      "text/plain": [
       "4×1 Array{SymPy.Sym,2}:\n",
       "                  g1*g2\n",
       " 1.0*g1*g2*(1 - 1/g2^2)\n",
       "                      0\n",
       "    1.0*g1*(1 - 1/g1^2)"
      ]
     },
     "execution_count": 37,
     "metadata": {},
     "output_type": "execute_result"
    }
   ],
   "source": [
    "# check what does the matrix do with the four-vector of the state at rest (m, \\vec{0})\n",
    "M1*[1 0 0 0]'"
   ]
  },
  {
   "cell_type": "markdown",
   "metadata": {},
   "source": [
    "The answer for the wigner angle is $\\theta_w = \\frac{}{}$"
   ]
  }
 ],
 "metadata": {
  "kernelspec": {
   "display_name": "Julia 0.6.0-rc2",
   "language": "julia",
   "name": "julia-0.6"
  },
  "language_info": {
   "file_extension": ".jl",
   "mimetype": "application/julia",
   "name": "julia",
   "version": "0.6.0"
  }
 },
 "nbformat": 4,
 "nbformat_minor": 0
}
